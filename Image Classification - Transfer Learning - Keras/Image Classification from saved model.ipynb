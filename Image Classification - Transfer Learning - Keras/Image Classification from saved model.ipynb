{
 "cells": [
  {
   "cell_type": "code",
   "execution_count": 1,
   "id": "11e70325",
   "metadata": {},
   "outputs": [
    {
     "name": "stderr",
     "output_type": "stream",
     "text": [
      "2023-06-14 18:38:12.154800: I tensorflow/core/platform/cpu_feature_guard.cc:182] This TensorFlow binary is optimized to use available CPU instructions in performance-critical operations.\n",
      "To enable the following instructions: AVX2 FMA, in other operations, rebuild TensorFlow with the appropriate compiler flags.\n"
     ]
    }
   ],
   "source": [
    "# import necessary libraries\n",
    "import numpy as np\n",
    "from tensorflow.keras.models import load_model \n",
    "from tensorflow.keras.preprocessing import image\n",
    "from tensorflow.keras.applications.xception import preprocess_input"
   ]
  },
  {
   "cell_type": "code",
   "execution_count": 2,
   "id": "68865827",
   "metadata": {},
   "outputs": [],
   "source": [
    "# function that preprocesses the image before sending it to the model for prediction\n",
    "def preprocess(image_path):\n",
    "    img = image.load_img(image_path, target_size=(300,300))\n",
    "    x = image.img_to_array(img)\n",
    "    x = np.expand_dims(x, axis=0)\n",
    "    x = preprocess_input(x)\n",
    "    return x"
   ]
  },
  {
   "cell_type": "code",
   "execution_count": 3,
   "id": "36509340",
   "metadata": {},
   "outputs": [],
   "source": [
    "model = load_model(\"img_cls_model.h5\")\n",
    "label = {0: 'cat', 1: 'dog'}"
   ]
  },
  {
   "cell_type": "code",
   "execution_count": 4,
   "id": "9d02af06",
   "metadata": {},
   "outputs": [
    {
     "name": "stdout",
     "output_type": "stream",
     "text": [
      "1/1 [==============================] - 1s 880ms/step\n",
      "cat\n"
     ]
    }
   ],
   "source": [
    "img =  \"./dogs-vs-cats/test1/5.jpg\"\n",
    "input_img = preprocess(img)\n",
    "prediction = np.argmax(model.predict(input_img))\n",
    "print(label[prediction])"
   ]
  },
  {
   "cell_type": "code",
   "execution_count": null,
   "id": "e37150d8",
   "metadata": {},
   "outputs": [],
   "source": []
  }
 ],
 "metadata": {
  "kernelspec": {
   "display_name": "Python [conda env:imagecls1]",
   "language": "python",
   "name": "conda-env-imagecls1-py"
  },
  "language_info": {
   "codemirror_mode": {
    "name": "ipython",
    "version": 3
   },
   "file_extension": ".py",
   "mimetype": "text/x-python",
   "name": "python",
   "nbconvert_exporter": "python",
   "pygments_lexer": "ipython3",
   "version": "3.9.16"
  }
 },
 "nbformat": 4,
 "nbformat_minor": 5
}
