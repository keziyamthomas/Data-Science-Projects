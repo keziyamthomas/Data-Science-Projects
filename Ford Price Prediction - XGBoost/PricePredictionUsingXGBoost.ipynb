{
 "cells": [
  {
   "cell_type": "code",
   "execution_count": null,
   "id": "dcffe16c",
   "metadata": {},
   "outputs": [],
   "source": [
    "# install xgboost\n",
    "!pip install xgboost"
   ]
  },
  {
   "cell_type": "code",
   "execution_count": 44,
   "id": "ed6fc7a5",
   "metadata": {},
   "outputs": [],
   "source": [
    "# import necessary packages\n",
    "import pandas as pd\n",
    "import xgboost as xg\n",
    "from sklearn.model_selection import train_test_split\n",
    "from sklearn.metrics import r2_score"
   ]
  },
  {
   "cell_type": "code",
   "execution_count": 45,
   "id": "a92fa3a8",
   "metadata": {},
   "outputs": [],
   "source": [
    "ford_df = pd.read_csv(\"ford.csv\")"
   ]
  },
  {
   "cell_type": "code",
   "execution_count": 46,
   "id": "53251231",
   "metadata": {},
   "outputs": [
    {
     "data": {
      "text/html": [
       "<div>\n",
       "<style scoped>\n",
       "    .dataframe tbody tr th:only-of-type {\n",
       "        vertical-align: middle;\n",
       "    }\n",
       "\n",
       "    .dataframe tbody tr th {\n",
       "        vertical-align: top;\n",
       "    }\n",
       "\n",
       "    .dataframe thead th {\n",
       "        text-align: right;\n",
       "    }\n",
       "</style>\n",
       "<table border=\"1\" class=\"dataframe\">\n",
       "  <thead>\n",
       "    <tr style=\"text-align: right;\">\n",
       "      <th></th>\n",
       "      <th>model</th>\n",
       "      <th>year</th>\n",
       "      <th>price</th>\n",
       "      <th>transmission</th>\n",
       "      <th>mileage</th>\n",
       "      <th>fuelType</th>\n",
       "      <th>tax</th>\n",
       "      <th>mpg</th>\n",
       "      <th>engineSize</th>\n",
       "    </tr>\n",
       "  </thead>\n",
       "  <tbody>\n",
       "    <tr>\n",
       "      <th>0</th>\n",
       "      <td>Fiesta</td>\n",
       "      <td>2017</td>\n",
       "      <td>12000</td>\n",
       "      <td>Automatic</td>\n",
       "      <td>15944</td>\n",
       "      <td>Petrol</td>\n",
       "      <td>150</td>\n",
       "      <td>57.7</td>\n",
       "      <td>1.0</td>\n",
       "    </tr>\n",
       "    <tr>\n",
       "      <th>1</th>\n",
       "      <td>Focus</td>\n",
       "      <td>2018</td>\n",
       "      <td>14000</td>\n",
       "      <td>Manual</td>\n",
       "      <td>9083</td>\n",
       "      <td>Petrol</td>\n",
       "      <td>150</td>\n",
       "      <td>57.7</td>\n",
       "      <td>1.0</td>\n",
       "    </tr>\n",
       "    <tr>\n",
       "      <th>2</th>\n",
       "      <td>Focus</td>\n",
       "      <td>2017</td>\n",
       "      <td>13000</td>\n",
       "      <td>Manual</td>\n",
       "      <td>12456</td>\n",
       "      <td>Petrol</td>\n",
       "      <td>150</td>\n",
       "      <td>57.7</td>\n",
       "      <td>1.0</td>\n",
       "    </tr>\n",
       "    <tr>\n",
       "      <th>3</th>\n",
       "      <td>Fiesta</td>\n",
       "      <td>2019</td>\n",
       "      <td>17500</td>\n",
       "      <td>Manual</td>\n",
       "      <td>10460</td>\n",
       "      <td>Petrol</td>\n",
       "      <td>145</td>\n",
       "      <td>40.3</td>\n",
       "      <td>1.5</td>\n",
       "    </tr>\n",
       "    <tr>\n",
       "      <th>4</th>\n",
       "      <td>Fiesta</td>\n",
       "      <td>2019</td>\n",
       "      <td>16500</td>\n",
       "      <td>Automatic</td>\n",
       "      <td>1482</td>\n",
       "      <td>Petrol</td>\n",
       "      <td>145</td>\n",
       "      <td>48.7</td>\n",
       "      <td>1.0</td>\n",
       "    </tr>\n",
       "  </tbody>\n",
       "</table>\n",
       "</div>"
      ],
      "text/plain": [
       "     model  year  price transmission  mileage fuelType  tax   mpg  engineSize\n",
       "0   Fiesta  2017  12000    Automatic    15944   Petrol  150  57.7         1.0\n",
       "1    Focus  2018  14000       Manual     9083   Petrol  150  57.7         1.0\n",
       "2    Focus  2017  13000       Manual    12456   Petrol  150  57.7         1.0\n",
       "3   Fiesta  2019  17500       Manual    10460   Petrol  145  40.3         1.5\n",
       "4   Fiesta  2019  16500    Automatic     1482   Petrol  145  48.7         1.0"
      ]
     },
     "execution_count": 46,
     "metadata": {},
     "output_type": "execute_result"
    }
   ],
   "source": [
    "ford_df.head()"
   ]
  },
  {
   "cell_type": "code",
   "execution_count": 47,
   "id": "198af630",
   "metadata": {},
   "outputs": [
    {
     "data": {
      "text/plain": [
       "model           0\n",
       "year            0\n",
       "price           0\n",
       "transmission    0\n",
       "mileage         0\n",
       "fuelType        0\n",
       "tax             0\n",
       "mpg             0\n",
       "engineSize      0\n",
       "dtype: int64"
      ]
     },
     "execution_count": 47,
     "metadata": {},
     "output_type": "execute_result"
    }
   ],
   "source": [
    "ford_df.isna().sum()"
   ]
  },
  {
   "cell_type": "code",
   "execution_count": 48,
   "id": "bc61a53d",
   "metadata": {},
   "outputs": [
    {
     "data": {
      "text/plain": [
       "model            object\n",
       "year              int64\n",
       "price             int64\n",
       "transmission     object\n",
       "mileage           int64\n",
       "fuelType         object\n",
       "tax               int64\n",
       "mpg             float64\n",
       "engineSize      float64\n",
       "dtype: object"
      ]
     },
     "execution_count": 48,
     "metadata": {},
     "output_type": "execute_result"
    }
   ],
   "source": [
    "# checking the data type of the features\n",
    "ford_df.dtypes"
   ]
  },
  {
   "cell_type": "markdown",
   "id": "3ce1b169",
   "metadata": {},
   "source": [
    "#### Dealing with categorical data without manually encoding them (feature available only in XGBoost versions starting from 1.5)"
   ]
  },
  {
   "cell_type": "code",
   "execution_count": 49,
   "id": "2190bf3f",
   "metadata": {},
   "outputs": [],
   "source": [
    "ford_df_cat = ford_df"
   ]
  },
  {
   "cell_type": "code",
   "execution_count": 50,
   "id": "07f72e65",
   "metadata": {},
   "outputs": [
    {
     "data": {
      "text/plain": [
       "model            object\n",
       "year              int64\n",
       "price             int64\n",
       "transmission     object\n",
       "mileage           int64\n",
       "fuelType         object\n",
       "tax               int64\n",
       "mpg             float64\n",
       "engineSize      float64\n",
       "dtype: object"
      ]
     },
     "execution_count": 50,
     "metadata": {},
     "output_type": "execute_result"
    }
   ],
   "source": [
    "ford_df_cat.dtypes"
   ]
  },
  {
   "cell_type": "code",
   "execution_count": 53,
   "id": "ded86b6b",
   "metadata": {},
   "outputs": [],
   "source": [
    "# mentioning the features that are categorical\n",
    "ford_df_cat[[\"model\",\"transmission\",\"fuelType\"]] = ford_df_cat[[\"model\",\"transmission\",\"fuelType\"]].astype(\"category\")"
   ]
  },
  {
   "cell_type": "code",
   "execution_count": 54,
   "id": "6f4ee601",
   "metadata": {},
   "outputs": [
    {
     "data": {
      "text/plain": [
       "model           category\n",
       "year               int64\n",
       "price              int64\n",
       "transmission    category\n",
       "mileage            int64\n",
       "fuelType        category\n",
       "tax                int64\n",
       "mpg              float64\n",
       "engineSize       float64\n",
       "dtype: object"
      ]
     },
     "execution_count": 54,
     "metadata": {},
     "output_type": "execute_result"
    }
   ],
   "source": [
    "# checking the data type of features again to see if they are recognized as categories\n",
    "ford_df_cat.dtypes"
   ]
  },
  {
   "cell_type": "code",
   "execution_count": 55,
   "id": "d77ac9e5",
   "metadata": {},
   "outputs": [],
   "source": [
    "# separating features and labels and splitting dataset into train and test set\n",
    "X = ford_df_cat.drop('price',axis=1)\n",
    "y = ford_df_cat['price']\n",
    "X_train, X_test,y_train, y_test = train_test_split(X,y ,\n",
    "                                   random_state=100, \n",
    "                                   test_size=0.20, \n",
    "                                   shuffle=True)"
   ]
  },
  {
   "cell_type": "code",
   "execution_count": 56,
   "id": "6b34060d",
   "metadata": {},
   "outputs": [
    {
     "data": {
      "text/plain": [
       "XGBRegressor(base_score=None, booster=None, callbacks=None,\n",
       "             colsample_bylevel=None, colsample_bynode=None,\n",
       "             colsample_bytree=None, early_stopping_rounds=None,\n",
       "             enable_categorical=True, eval_metric=None, feature_types=None,\n",
       "             gamma=None, gpu_id=None, grow_policy=None, importance_type=None,\n",
       "             interaction_constraints=None, learning_rate=None, max_bin=None,\n",
       "             max_cat_threshold=None, max_cat_to_onehot=None,\n",
       "             max_delta_step=None, max_depth=None, max_leaves=None,\n",
       "             min_child_weight=None, missing=nan, monotone_constraints=None,\n",
       "             n_estimators=12, n_jobs=None, num_parallel_tree=None,\n",
       "             predictor=None, random_state=None, ...)"
      ]
     },
     "execution_count": 56,
     "metadata": {},
     "output_type": "execute_result"
    }
   ],
   "source": [
    "# Defining the XGBoost Regressor\n",
    "# Adding enable_categorical=True to existing parameters\n",
    "# Supported tree_method for categorical data are `gpu_hist`, `approx`, and `hist`\n",
    "xgb = xg.XGBRegressor(objective ='reg:squarederror', n_estimators = 12, seed = 56, tree_method='hist',\n",
    "                      enable_categorical=True)\n",
    "# Training the model using the training dataset\n",
    "xgb.fit(X_train, y_train)"
   ]
  },
  {
   "cell_type": "code",
   "execution_count": 57,
   "id": "88995a03",
   "metadata": {},
   "outputs": [
    {
     "name": "stdout",
     "output_type": "stream",
     "text": [
      "0.911171089852688\n"
     ]
    }
   ],
   "source": [
    "# predicting using trained model and finding the r2 score\n",
    "y_pred = xgb.predict(X_test)\n",
    "r2 = r2_score(y_test,y_pred)\n",
    "print(r2)"
   ]
  },
  {
   "cell_type": "code",
   "execution_count": 58,
   "id": "1a5a1648",
   "metadata": {},
   "outputs": [],
   "source": [
    "# saving the trained model\n",
    "xgb.save_model(\"model.json\")"
   ]
  },
  {
   "cell_type": "markdown",
   "id": "fe385a22",
   "metadata": {},
   "source": [
    "##### Predicting using the saved model"
   ]
  },
  {
   "cell_type": "code",
   "execution_count": 60,
   "id": "e65d9173",
   "metadata": {},
   "outputs": [],
   "source": [
    "import xgboost as xg\n",
    "xgb_saved = xg.Booster()\n",
    "# loading saved model\n",
    "xgb_saved.load_model(\"model.json\")"
   ]
  },
  {
   "cell_type": "code",
   "execution_count": 66,
   "id": "1b7e4e33",
   "metadata": {},
   "outputs": [],
   "source": [
    "#predicting using trained model\n",
    "y_pred_saved = xgb_saved.predict(xg.DMatrix(X_test,enable_categorical=True))"
   ]
  },
  {
   "cell_type": "code",
   "execution_count": 67,
   "id": "39c7e6c3",
   "metadata": {},
   "outputs": [
    {
     "data": {
      "text/plain": [
       "array([ 6874.7046, 10417.231 , 16825.986 ,  8153.799 ,  6967.2495,\n",
       "       10899.846 , 10692.221 ,  9445.076 , 11041.24  , 12960.756 ],\n",
       "      dtype=float32)"
      ]
     },
     "execution_count": 67,
     "metadata": {},
     "output_type": "execute_result"
    }
   ],
   "source": [
    "y_pred_saved[:10]"
   ]
  },
  {
   "cell_type": "code",
   "execution_count": 68,
   "id": "2827be72",
   "metadata": {},
   "outputs": [
    {
     "name": "stdout",
     "output_type": "stream",
     "text": [
      "0.911171089852688\n"
     ]
    }
   ],
   "source": [
    "r2 = r2_score(y_test,y_pred_saved)\n",
    "print(r2)"
   ]
  },
  {
   "cell_type": "markdown",
   "id": "47a6fb0c",
   "metadata": {},
   "source": [
    "#### Grid search CV for finding the best hyperparameters for XGBoost"
   ]
  },
  {
   "cell_type": "code",
   "execution_count": 33,
   "id": "604a0f7a",
   "metadata": {},
   "outputs": [],
   "source": [
    "# possible value for each of the parameters while performing GridSearchCV\n",
    "parameters = {\n",
    "    'learning_rate' : [0.2,0.3,0.4],\n",
    "    'gamma' : [1,2,3,4],\n",
    "    'max_depth': [4,6,7],\n",
    "    'tree_method': ['auto','exact','hist']\n",
    "}"
   ]
  },
  {
   "cell_type": "code",
   "execution_count": 41,
   "id": "0bcb7757",
   "metadata": {},
   "outputs": [
    {
     "name": "stdout",
     "output_type": "stream",
     "text": [
      "Fitting 5 folds for each of 108 candidates, totalling 540 fits\n"
     ]
    },
    {
     "data": {
      "text/plain": [
       "GridSearchCV(cv=5,\n",
       "             estimator=XGBRegressor(base_score=None, booster=None,\n",
       "                                    callbacks=None, colsample_bylevel=None,\n",
       "                                    colsample_bynode=None,\n",
       "                                    colsample_bytree=None,\n",
       "                                    early_stopping_rounds=None,\n",
       "                                    enable_categorical=False, eval_metric=None,\n",
       "                                    feature_types=None, gamma=None, gpu_id=None,\n",
       "                                    grow_policy=None, importance_type=None,\n",
       "                                    interaction_constraints=None,\n",
       "                                    learning_rate=None, m...\n",
       "                                    max_cat_to_onehot=None, max_delta_step=None,\n",
       "                                    max_depth=None, max_leaves=None,\n",
       "                                    min_child_weight=None, missing=nan,\n",
       "                                    monotone_constraints=None, n_estimators=12,\n",
       "                                    n_jobs=None, num_parallel_tree=None,\n",
       "                                    predictor=None, random_state=None, ...),\n",
       "             n_jobs=4,\n",
       "             param_grid={'gamma': [1, 2, 3, 4],\n",
       "                         'learning_rate': [0.2, 0.3, 0.4],\n",
       "                         'max_depth': [4, 6, 7],\n",
       "                         'tree_method': ['auto', 'exact', 'hist']},\n",
       "             verbose=3)"
      ]
     },
     "execution_count": 41,
     "metadata": {},
     "output_type": "execute_result"
    }
   ],
   "source": [
    "from sklearn.model_selection import RandomizedSearchCV, GridSearchCV, StratifiedKFold\n",
    "\n",
    "grid_search = GridSearchCV(xgb, parameters,n_jobs=4,cv=5, verbose=3)\n",
    "grid_search.fit(X, y)"
   ]
  },
  {
   "cell_type": "code",
   "execution_count": 42,
   "id": "9f4ece79",
   "metadata": {},
   "outputs": [
    {
     "name": "stdout",
     "output_type": "stream",
     "text": [
      "0.9262097629484091\n",
      "{'gamma': 1, 'learning_rate': 0.4, 'max_depth': 7, 'tree_method': 'auto'}\n"
     ]
    }
   ],
   "source": [
    "print(grid_search.best_score_)\n",
    "print(grid_search.best_params_)"
   ]
  },
  {
   "cell_type": "code",
   "execution_count": 3,
   "id": "e9314569",
   "metadata": {},
   "outputs": [
    {
     "name": "stdout",
     "output_type": "stream",
     "text": [
      "alabaster @ file:///home/ktietz/src/ci/alabaster_1611921544520/work\r\n",
      "anaconda-client @ file:///opt/concourse/worker/volumes/live/866d4dd0-ff5b-4d0b-718d-0267a3b10e06/volume/anaconda-client_1635342573767/work\r\n",
      "anaconda-navigator==2.1.1\r\n",
      "anaconda-project @ file:///tmp/build/80754af9/anaconda-project_1626085644852/work\r\n",
      "anyio @ file:///opt/concourse/worker/volumes/live/96440bbe-d2f1-4a9e-5edf-600248ff38bd/volume/anyio_1617783321037/work/dist\r\n",
      "appdirs==1.4.4\r\n",
      "applaunchservices @ file:///Users/ktietz/demo/mc3/conda-bld/applaunchservices_1630511705208/work\r\n",
      "appnope @ file:///opt/concourse/worker/volumes/live/6ca6f098-d773-4461-5c91-a24a17435bda/volume/appnope_1606859448531/work\r\n",
      "appscript @ file:///opt/concourse/worker/volumes/live/00049ed6-6263-4a6e-72b9-9d990f6e2f07/volume/appscript_1611427000595/work\r\n",
      "argh==0.26.2\r\n",
      "argon2-cffi @ file:///opt/concourse/worker/volumes/live/38e8fb2b-1295-4bdf-4adf-b20acbe4d91b/volume/argon2-cffi_1607022498041/work\r\n",
      "arrow @ file:///opt/concourse/worker/volumes/live/1c202787-83f7-4b70-6d98-b40769f597f4/volume/arrow_1617737667847/work\r\n",
      "asn1crypto @ file:///tmp/build/80754af9/asn1crypto_1596577642040/work\r\n",
      "astroid @ file:///opt/concourse/worker/volumes/live/5aff3c6b-d8ac-4e74-4846-0f446794397d/volume/astroid_1628063157520/work\r\n",
      "astropy @ file:///opt/concourse/worker/volumes/live/dac790a5-ee97-4520-5b55-f2cc50d275e6/volume/astropy_1629829220593/work\r\n",
      "async-generator @ file:///home/ktietz/src/ci/async_generator_1611927993394/work\r\n",
      "atomicwrites==1.4.0\r\n",
      "attrs @ file:///tmp/build/80754af9/attrs_1620827162558/work\r\n",
      "autopep8 @ file:///tmp/build/80754af9/autopep8_1620866417880/work\r\n",
      "Babel @ file:///tmp/build/80754af9/babel_1620871417480/work\r\n",
      "backcall @ file:///home/ktietz/src/ci/backcall_1611930011877/work\r\n",
      "backports.functools-lru-cache @ file:///tmp/build/80754af9/backports.functools_lru_cache_1618170165463/work\r\n",
      "backports.shutil-get-terminal-size @ file:///tmp/build/80754af9/backports.shutil_get_terminal_size_1608222128777/work\r\n",
      "backports.tempfile @ file:///home/linux1/recipes/ci/backports.tempfile_1610991236607/work\r\n",
      "backports.weakref==1.0.post1\r\n",
      "beautifulsoup4 @ file:///tmp/build/80754af9/beautifulsoup4_1631874778482/work\r\n",
      "binaryornot @ file:///tmp/build/80754af9/binaryornot_1617751525010/work\r\n",
      "bitarray @ file:///opt/concourse/worker/volumes/live/8f2b2fa2-f7cd-4343-4d8f-3cc38b632e33/volume/bitarray_1629132852828/work\r\n",
      "bkcharts==0.2\r\n",
      "black==19.10b0\r\n",
      "bleach @ file:///tmp/build/80754af9/bleach_1628110601003/work\r\n",
      "bokeh @ file:///opt/concourse/worker/volumes/live/278130e0-6bd5-4375-72c8-87158eba9408/volume/bokeh_1635324480391/work\r\n",
      "boto==2.49.0\r\n",
      "Bottleneck @ file:///opt/concourse/worker/volumes/live/ac8c8ef3-2ed0-42e9-6ec0-5bb05ad938f6/volume/bottleneck_1607575111469/work\r\n",
      "brotlipy==0.7.0\r\n",
      "cached-property @ file:///tmp/build/80754af9/cached-property_1600785575025/work\r\n",
      "certifi==2021.10.8\r\n",
      "cffi @ file:///opt/concourse/worker/volumes/live/976f8942-f51d-4f0e-7352-2a10f0820d0e/volume/cffi_1625814703974/work\r\n",
      "chardet @ file:///opt/concourse/worker/volumes/live/7e1102c4-8702-40f2-63d6-f260ce5f85e4/volume/chardet_1607706831384/work\r\n",
      "charset-normalizer @ file:///tmp/build/80754af9/charset-normalizer_1630003229654/work\r\n",
      "click==8.0.3\r\n",
      "cloudpickle @ file:///tmp/build/80754af9/cloudpickle_1632508026186/work\r\n",
      "clyent==1.2.2\r\n",
      "colorama @ file:///tmp/build/80754af9/colorama_1607707115595/work\r\n",
      "conda==4.14.0\r\n",
      "conda-build==3.21.5\r\n",
      "conda-content-trust @ file:///tmp/build/80754af9/conda-content-trust_1617045594566/work\r\n",
      "conda-pack @ file:///tmp/build/80754af9/conda-pack_1611163042455/work\r\n",
      "conda-package-handling @ file:///opt/concourse/worker/volumes/live/8fb3e065-760b-4a9d-4cd9-aca7fc8baf53/volume/conda-package-handling_1618262145611/work\r\n",
      "conda-repo-cli @ file:///tmp/build/80754af9/conda-repo-cli_1620168426516/work\r\n",
      "conda-token @ file:///tmp/build/80754af9/conda-token_1620076980546/work\r\n",
      "conda-verify==3.4.2\r\n",
      "contextlib2 @ file:///Users/ktietz/demo/mc3/conda-bld/contextlib2_1630668244042/work\r\n",
      "cookiecutter @ file:///tmp/build/80754af9/cookiecutter_1617748928239/work\r\n",
      "cryptography @ file:///opt/concourse/worker/volumes/live/3143e751-d0f4-457e-7dc5-b7eaa48a56a8/volume/cryptography_1633520383659/work\r\n",
      "cycler==0.10.0\r\n",
      "Cython @ file:///opt/concourse/worker/volumes/live/090b3344-25bd-4e30-5dde-5f77abae4b7a/volume/cython_1636035875931/work\r\n",
      "cytoolz==0.11.0\r\n",
      "daal4py==2021.3.0\r\n",
      "dask==2021.10.0\r\n",
      "debugpy @ file:///opt/concourse/worker/volumes/live/1a15daf1-2a67-4a51-6aa1-c3bca01f7577/volume/debugpy_1629222706040/work\r\n",
      "decorator @ file:///tmp/build/80754af9/decorator_1632776554403/work\r\n",
      "defusedxml @ file:///tmp/build/80754af9/defusedxml_1615228127516/work\r\n",
      "diff-match-patch @ file:///Users/ktietz/demo/mc3/conda-bld/diff-match-patch_1630511840874/work\r\n",
      "distributed @ file:///opt/concourse/worker/volumes/live/34c9adba-e95e-473d-7a32-ecdf958a8844/volume/distributed_1635968220957/work\r\n",
      "docutils @ file:///opt/concourse/worker/volumes/live/c87e10af-317d-45cb-7142-3d02053858ee/volume/docutils_1620827978243/work\r\n",
      "entrypoints==0.3\r\n",
      "et-xmlfile==1.1.0\r\n",
      "fastcache @ file:///opt/concourse/worker/volumes/live/8356601f-d9bc-4d13-4017-1a58ebea6849/volume/fastcache_1607571270986/work\r\n",
      "filelock @ file:///tmp/build/80754af9/filelock_1635402558181/work\r\n",
      "flake8 @ file:///tmp/build/80754af9/flake8_1620776156532/work\r\n",
      "Flask @ file:///home/ktietz/src/ci/flask_1611932660458/work\r\n",
      "Flask-PyMongo==2.3.0\r\n",
      "fonttools==4.25.0\r\n",
      "fsspec @ file:///tmp/build/80754af9/fsspec_1632413898837/work\r\n",
      "future @ file:///opt/concourse/worker/volumes/live/f456638c-86a7-4060-7f5f-d499a051219b/volume/future_1607571337593/work\r\n",
      "gevent @ file:///opt/concourse/worker/volumes/live/014e1366-b455-480b-61a8-9a69e4909791/volume/gevent_1628273687151/work\r\n",
      "glob2 @ file:///home/linux1/recipes/ci/glob2_1610991677669/work\r\n",
      "gmpy2==2.0.8\r\n",
      "greenlet @ file:///opt/concourse/worker/volumes/live/b27b4e9e-4697-4d57-403b-f82d36a391ca/volume/greenlet_1628888146890/work\r\n",
      "h11==0.13.0\r\n",
      "h5py @ file:///opt/concourse/worker/volumes/live/e7503571-c7b1-45ac-4bb7-37b5178cb0df/volume/h5py_1622088436205/work\r\n",
      "HeapDict @ file:///Users/ktietz/demo/mc3/conda-bld/heapdict_1630598515714/work\r\n",
      "html5lib @ file:///Users/ktietz/demo/mc3/conda-bld/html5lib_1629144453894/work\r\n",
      "idna @ file:///tmp/build/80754af9/idna_1622654382723/work\r\n",
      "imagecodecs @ file:///opt/concourse/worker/volumes/live/ab9fe69e-f7d4-471a-6199-cb95a745fb88/volume/imagecodecs_1635529117386/work\r\n",
      "imageio @ file:///tmp/build/80754af9/imageio_1617700267927/work\r\n",
      "imagesize @ file:///Users/ktietz/demo/mc3/conda-bld/imagesize_1628863108022/work\r\n",
      "importlib-metadata @ file:///opt/concourse/worker/volumes/live/b1c84e32-1519-4554-50d3-980dc7c220d9/volume/importlib-metadata_1631916711680/work\r\n",
      "inflection==0.5.1\r\n",
      "iniconfig @ file:///home/linux1/recipes/ci/iniconfig_1610983019677/work\r\n",
      "intervaltree @ file:///Users/ktietz/demo/mc3/conda-bld/intervaltree_1630511889664/work\r\n",
      "ipykernel @ file:///opt/concourse/worker/volumes/live/6f6caad4-5c02-4b4a-5243-1eece346c27b/volume/ipykernel_1633545433252/work/dist/ipykernel-6.4.1-py3-none-any.whl\r\n",
      "ipython @ file:///opt/concourse/worker/volumes/live/c0526798-0817-46b3-68c1-bb9ffefe344a/volume/ipython_1635944197798/work\r\n",
      "ipython-genutils @ file:///tmp/build/80754af9/ipython_genutils_1606773439826/work\r\n",
      "ipywidgets @ file:///tmp/build/80754af9/ipywidgets_1634143127070/work\r\n",
      "isort @ file:///tmp/build/80754af9/isort_1628603791788/work\r\n",
      "itsdangerous @ file:///tmp/build/80754af9/itsdangerous_1621432558163/work\r\n",
      "jdcal @ file:///Users/ktietz/demo/mc3/conda-bld/jdcal_1630584345063/work\r\n",
      "jedi @ file:///opt/concourse/worker/volumes/live/4b03e428-2d0c-4635-502c-16df884971e8/volume/jedi_1611333763457/work\r\n",
      "Jinja2 @ file:///tmp/build/80754af9/jinja2_1612213139570/work\r\n",
      "jinja2-time @ file:///tmp/build/80754af9/jinja2-time_1617751524098/work\r\n",
      "joblib @ file:///tmp/build/80754af9/joblib_1635411271373/work\r\n",
      "json5 @ file:///tmp/build/80754af9/json5_1624432770122/work\r\n",
      "jsonschema @ file:///Users/ktietz/demo/mc3/conda-bld/jsonschema_1630511932244/work\r\n",
      "jupyter @ file:///opt/concourse/worker/volumes/live/5d55c245-fcac-42f9-4a6c-7e147c07785b/volume/jupyter_1607700866889/work\r\n",
      "jupyter-client @ file:///tmp/build/80754af9/jupyter_client_1616770841739/work\r\n",
      "jupyter-console @ file:///tmp/build/80754af9/jupyter_console_1616615302928/work\r\n",
      "jupyter-core @ file:///opt/concourse/worker/volumes/live/ade0d1fb-3680-4893-7a79-579c9d86c1c1/volume/jupyter_core_1633420119353/work\r\n",
      "jupyter-server @ file:///opt/concourse/worker/volumes/live/c0b6c5cd-8b5f-482c-6789-42a64b3d2acc/volume/jupyter_server_1616084049292/work\r\n",
      "jupyterlab @ file:///tmp/build/80754af9/jupyterlab_1635799997693/work\r\n",
      "jupyterlab-pygments @ file:///tmp/build/80754af9/jupyterlab_pygments_1601490720602/work\r\n",
      "jupyterlab-server @ file:///tmp/build/80754af9/jupyterlab_server_1633419203660/work\r\n",
      "jupyterlab-widgets @ file:///tmp/build/80754af9/jupyterlab_widgets_1609884341231/work\r\n",
      "keyring @ file:///opt/concourse/worker/volumes/live/effa77ff-08c0-456d-548e-ecd9681ace1e/volume/keyring_1629321568005/work\r\n",
      "kiwisolver @ file:///opt/concourse/worker/volumes/live/f8867fdb-2fa2-4145-73d9-4d6f6dad5f7c/volume/kiwisolver_1612282424136/work\r\n",
      "lazy-object-proxy @ file:///opt/concourse/worker/volumes/live/a169db40-97bf-4f51-6893-dc751f705b7b/volume/lazy-object-proxy_1616529067444/work\r\n",
      "libarchive-c @ file:///tmp/build/80754af9/python-libarchive-c_1617780486945/work\r\n",
      "llvmlite==0.37.0\r\n",
      "locket==0.2.1\r\n",
      "lxml @ file:///opt/concourse/worker/volumes/live/e9a191ad-c8f1-4bb7-7955-c333b8ab6c55/volume/lxml_1616443232489/work\r\n",
      "MarkupSafe @ file:///opt/concourse/worker/volumes/live/fac44ebc-60de-4182-7f89-29bb8796c554/volume/markupsafe_1607027351541/work\r\n",
      "matplotlib @ file:///opt/concourse/worker/volumes/live/f670ab63-e220-495e-450b-14c9591f195b/volume/matplotlib-suite_1634667037960/work\r\n",
      "matplotlib-inline @ file:///tmp/build/80754af9/matplotlib-inline_1628242447089/work\r\n",
      "mccabe==0.6.1\r\n",
      "mistune @ file:///opt/concourse/worker/volumes/live/4217afd5-dad1-438d-6f79-e4992ccda0e5/volume/mistune_1607364880245/work\r\n",
      "mkl-fft==1.3.1\r\n",
      "mkl-random @ file:///opt/concourse/worker/volumes/live/0cda23d8-7460-44b2-7e5d-3c76a8a0ca7e/volume/mkl_random_1626186083266/work\r\n",
      "mkl-service==2.4.0\r\n",
      "mock @ file:///tmp/build/80754af9/mock_1607622725907/work\r\n",
      "more-itertools @ file:///tmp/build/80754af9/more-itertools_1635423142362/work\r\n",
      "mpmath==1.2.1\r\n",
      "msgpack @ file:///opt/concourse/worker/volumes/live/ccdd6ca0-523a-4fde-5a76-cdd4f47c445e/volume/msgpack-python_1612287158191/work\r\n",
      "multipledispatch @ file:///opt/concourse/worker/volumes/live/ae29ad0f-3a64-4ff5-7393-0aa95f2c9f85/volume/multipledispatch_1607574242710/work\r\n",
      "munkres==1.1.4\r\n",
      "mypy-extensions==0.4.3\r\n",
      "navigator-updater==0.2.1\r\n",
      "nb-conda-kernels @ file:///opt/concourse/worker/volumes/live/77ac482c-59f3-4dd8-5799-ae5cb33557d8/volume/nb_conda_kernels_1636035864248/work\r\n",
      "nbclassic @ file:///tmp/build/80754af9/nbclassic_1616085367084/work\r\n",
      "nbclient @ file:///tmp/build/80754af9/nbclient_1614364831625/work\r\n",
      "nbconvert @ file:///opt/concourse/worker/volumes/live/ad745f9a-647c-4095-6b46-a8b45a735914/volume/nbconvert_1624479072790/work\r\n",
      "nbformat @ file:///tmp/build/80754af9/nbformat_1617383369282/work\r\n",
      "nest-asyncio @ file:///tmp/build/80754af9/nest-asyncio_1613680548246/work\r\n",
      "networkx @ file:///tmp/build/80754af9/networkx_1633639043937/work\r\n",
      "nltk==3.6.5\r\n",
      "nose @ file:///tmp/build/80754af9/nose_1606773131901/work\r\n",
      "notebook @ file:///opt/concourse/worker/volumes/live/600e39a3-70b3-4ed1-4986-4cc3d1a9be7c/volume/notebook_1635411664246/work\r\n",
      "numba @ file:///Users/builder/miniconda3/envs/prefect/conda-bld/numba_1635176853722/work\r\n",
      "numexpr @ file:///opt/concourse/worker/volumes/live/8a490d79-0e07-4fed-40fc-a78f896e4811/volume/numexpr_1618856522733/work\r\n",
      "numpy @ file:///opt/concourse/worker/volumes/live/9909a8d0-9b8e-44eb-6059-6c668078c029/volume/numpy_and_numpy_base_1626271794641/work\r\n",
      "numpydoc @ file:///tmp/build/80754af9/numpydoc_1605117425582/work\r\n",
      "object-detection==0.1\r\n",
      "olefile @ file:///Users/ktietz/demo/mc3/conda-bld/olefile_1629805411829/work\r\n",
      "openpyxl @ file:///tmp/build/80754af9/openpyxl_1632777717936/work\r\n",
      "outcome==1.2.0\r\n",
      "packaging @ file:///tmp/build/80754af9/packaging_1625611678980/work\r\n",
      "pandas==1.3.4\r\n",
      "pandocfilters @ file:///opt/concourse/worker/volumes/live/d8ef4635-066d-4ffe-5341-12ebf01bd094/volume/pandocfilters_1605120459573/work\r\n",
      "parso @ file:///tmp/build/80754af9/parso_1617223946239/work\r\n",
      "partd @ file:///tmp/build/80754af9/partd_1618000087440/work\r\n",
      "path @ file:///opt/concourse/worker/volumes/live/ada87e48-bd34-49ac-6489-f51a7259db05/volume/path_1623603892072/work\r\n",
      "pathlib2 @ file:///opt/concourse/worker/volumes/live/9cb7a8e6-768d-4b83-4c58-1af1d6394b3e/volume/pathlib2_1625585698767/work\r\n",
      "pathspec==0.7.0\r\n",
      "patsy==0.5.2\r\n",
      "pep8==1.7.1\r\n",
      "pexpect @ file:///tmp/build/80754af9/pexpect_1605563209008/work\r\n",
      "pickleshare @ file:///tmp/build/80754af9/pickleshare_1606932040724/work\r\n",
      "Pillow==8.4.0\r\n",
      "pkginfo==1.7.1\r\n",
      "pluggy @ file:///opt/concourse/worker/volumes/live/a2630e20-8422-46fc-7347-f73294368851/volume/pluggy_1615976601840/work\r\n",
      "ply==3.11\r\n",
      "poyo @ file:///tmp/build/80754af9/poyo_1617751526755/work\r\n",
      "prometheus-client @ file:///tmp/build/80754af9/prometheus_client_1623189609245/work\r\n",
      "prompt-toolkit @ file:///tmp/build/80754af9/prompt-toolkit_1633440160888/work\r\n",
      "psutil @ file:///opt/concourse/worker/volumes/live/da41f1b1-060b-47fa-4c17-557e069ead1d/volume/psutil_1612298011002/work\r\n",
      "ptyprocess @ file:///tmp/build/80754af9/ptyprocess_1609355006118/work/dist/ptyprocess-0.7.0-py2.py3-none-any.whl\r\n",
      "py @ file:///tmp/build/80754af9/py_1607971587848/work\r\n",
      "pycodestyle @ file:///tmp/build/80754af9/pycodestyle_1615748559966/work\r\n",
      "pycosat==0.6.3\r\n",
      "pycparser @ file:///tmp/build/80754af9/pycparser_1594388511720/work\r\n",
      "pycurl==7.44.1\r\n",
      "pydocstyle @ file:///tmp/build/80754af9/pydocstyle_1621600989141/work\r\n",
      "pyerfa @ file:///opt/concourse/worker/volumes/live/fef1f482-1dec-42b9-4439-b8031d24ea69/volume/pyerfa_1621560786048/work\r\n",
      "pyflakes @ file:///tmp/build/80754af9/pyflakes_1617200973297/work\r\n",
      "Pygments @ file:///tmp/build/80754af9/pygments_1629234116488/work\r\n",
      "PyJWT @ file:///opt/concourse/worker/volumes/live/bd094316-1935-4bf0-5028-b889d4e7967c/volume/pyjwt_1619682501859/work\r\n",
      "pylint @ file:///opt/concourse/worker/volumes/live/110f293a-445f-477b-4041-2e00ae784083/volume/pylint_1627536795404/work\r\n",
      "pyls-spyder==0.4.0\r\n",
      "pymongo==4.1.1\r\n",
      "pyodbc===4.0.0-unsupported\r\n",
      "pyOpenSSL @ file:///tmp/build/80754af9/pyopenssl_1635333100036/work\r\n",
      "pyparsing @ file:///tmp/build/80754af9/pyparsing_1635766073266/work\r\n",
      "pyrsistent @ file:///opt/concourse/worker/volumes/live/76cffa60-bd33-4155-4e83-ea03c38b1294/volume/pyrsistent_1636111020441/work\r\n",
      "PySocks @ file:///opt/concourse/worker/volumes/live/112288ac-9cb0-4e73-768b-13baf4ca6419/volume/pysocks_1605305820043/work\r\n",
      "pytest==6.2.4\r\n",
      "python-dateutil @ file:///tmp/build/80754af9/python-dateutil_1626374649649/work\r\n",
      "python-dotenv==0.20.0\r\n",
      "python-lsp-black @ file:///tmp/build/80754af9/python-lsp-black_1634232156041/work\r\n",
      "python-lsp-jsonrpc==1.0.0\r\n",
      "python-lsp-server==1.2.4\r\n",
      "python-slugify @ file:///tmp/build/80754af9/python-slugify_1620405669636/work\r\n",
      "pytz==2021.3\r\n",
      "PyWavelets @ file:///opt/concourse/worker/volumes/live/3cbb6155-7383-45e0-55bb-8641a92939f6/volume/pywavelets_1607645526758/work\r\n",
      "PyYAML==6.0\r\n",
      "pyzmq @ file:///opt/concourse/worker/volumes/live/a6b770e2-97ff-4d20-790a-688be9a9004f/volume/pyzmq_1628276022869/work\r\n",
      "QDarkStyle @ file:///tmp/build/80754af9/qdarkstyle_1617386714626/work\r\n",
      "qstylizer @ file:///tmp/build/80754af9/qstylizer_1617713584600/work/dist/qstylizer-0.1.10-py2.py3-none-any.whl\r\n",
      "QtAwesome @ file:///tmp/build/80754af9/qtawesome_1615991616277/work\r\n",
      "qtconsole @ file:///tmp/build/80754af9/qtconsole_1632739723211/work\r\n",
      "QtPy @ file:///tmp/build/80754af9/qtpy_1629397026935/work\r\n",
      "regex @ file:///opt/concourse/worker/volumes/live/6d0c2188-eef5-45ba-7cde-604a70bbd9f2/volume/regex_1628063357190/work\r\n",
      "requests @ file:///tmp/build/80754af9/requests_1629994808627/work\r\n",
      "rope @ file:///tmp/build/80754af9/rope_1623703006312/work\r\n",
      "Rtree @ file:///opt/concourse/worker/volumes/live/18283f9b-719e-45b1-7f3a-937f49358be4/volume/rtree_1618420836397/work\r\n",
      "ruamel-yaml-conda @ file:///opt/concourse/worker/volumes/live/e81cf0fe-611a-498e-6e69-a7320057c1ac/volume/ruamel_yaml_1616016689696/work\r\n",
      "scikit-image==0.18.3\r\n",
      "scikit-learn @ file:///opt/concourse/worker/volumes/live/83f46a43-da2a-467b-5581-ed2cbd128684/volume/scikit-learn_1621370403088/work\r\n",
      "scikit-learn-intelex==2021.20210714.100439\r\n",
      "scipy @ file:///opt/concourse/worker/volumes/live/8e481b15-67b8-4160-7a8b-26cd6e8fe54f/volume/scipy_1630606804826/work\r\n",
      "seaborn @ file:///tmp/build/80754af9/seaborn_1629307859561/work\r\n",
      "selenium==4.3.0\r\n",
      "Send2Trash @ file:///tmp/build/80754af9/send2trash_1632406701022/work\r\n",
      "simplegeneric==0.8.1\r\n",
      "singledispatch @ file:///tmp/build/80754af9/singledispatch_1629321204894/work\r\n",
      "sip==4.19.13\r\n",
      "six @ file:///tmp/build/80754af9/six_1623709665295/work\r\n",
      "sniffio @ file:///opt/concourse/worker/volumes/live/38ca9e9e-09d1-4d43-5a0f-b546422e7807/volume/sniffio_1614030472707/work\r\n",
      "snowballstemmer @ file:///tmp/build/80754af9/snowballstemmer_1611258885636/work\r\n",
      "sortedcollections @ file:///tmp/build/80754af9/sortedcollections_1611172717284/work\r\n",
      "sortedcontainers @ file:///tmp/build/80754af9/sortedcontainers_1623949099177/work\r\n",
      "soupsieve @ file:///tmp/build/80754af9/soupsieve_1616183228191/work\r\n",
      "Sphinx==4.2.0\r\n",
      "sphinxcontrib-applehelp @ file:///home/ktietz/src/ci/sphinxcontrib-applehelp_1611920841464/work\r\n",
      "sphinxcontrib-devhelp @ file:///home/ktietz/src/ci/sphinxcontrib-devhelp_1611920923094/work\r\n",
      "sphinxcontrib-htmlhelp @ file:///tmp/build/80754af9/sphinxcontrib-htmlhelp_1623945626792/work\r\n",
      "sphinxcontrib-jsmath @ file:///home/ktietz/src/ci/sphinxcontrib-jsmath_1611920942228/work\r\n",
      "sphinxcontrib-qthelp @ file:///home/ktietz/src/ci/sphinxcontrib-qthelp_1611921055322/work\r\n",
      "sphinxcontrib-serializinghtml @ file:///tmp/build/80754af9/sphinxcontrib-serializinghtml_1624451540180/work\r\n",
      "sphinxcontrib-websupport @ file:///tmp/build/80754af9/sphinxcontrib-websupport_1597081412696/work\r\n",
      "splinter==0.18.1\r\n",
      "spyder @ file:///opt/concourse/worker/volumes/live/5ce630f9-babe-4f53-755a-cd7324c300d9/volume/spyder_1636480249527/work\r\n",
      "spyder-kernels @ file:///opt/concourse/worker/volumes/live/72f0c5be-8b9e-43d2-67e5-f038915937d7/volume/spyder-kernels_1634236950410/work\r\n",
      "SQLAlchemy @ file:///opt/concourse/worker/volumes/live/454d700c-0b8b-469e-7add-023d0df6ee3d/volume/sqlalchemy_1626948440911/work\r\n",
      "statsmodels @ file:///opt/concourse/worker/volumes/live/237cf070-cf87-4ff8-6149-8213b5eb40a5/volume/statsmodels_1614023802257/work\r\n",
      "sympy @ file:///opt/concourse/worker/volumes/live/5ed26665-a223-4942-7dc1-66b2b3830ab1/volume/sympy_1635237064989/work\r\n",
      "tables @ file:///opt/concourse/worker/volumes/live/daa73f70-754b-4f28-73ce-6f96c40f4b9d/volume/pytables_1607975400838/work\r\n",
      "TBB==0.2\r\n",
      "tblib @ file:///Users/ktietz/demo/mc3/conda-bld/tblib_1629402031467/work\r\n",
      "terminado==0.9.4\r\n",
      "testpath @ file:///tmp/build/80754af9/testpath_1624638946665/work\r\n",
      "text-unidecode @ file:///Users/ktietz/demo/mc3/conda-bld/text-unidecode_1629401354553/work\r\n",
      "textdistance @ file:///tmp/build/80754af9/textdistance_1612461398012/work\r\n",
      "threadpoolctl @ file:///Users/ktietz/demo/mc3/conda-bld/threadpoolctl_1629802263681/work\r\n",
      "three-merge @ file:///tmp/build/80754af9/three-merge_1607553261110/work\r\n",
      "tifffile @ file:///tmp/build/80754af9/tifffile_1627275862826/work\r\n",
      "tinycss @ file:///tmp/build/80754af9/tinycss_1617713798712/work\r\n",
      "toml @ file:///tmp/build/80754af9/toml_1616166611790/work\r\n",
      "toolz @ file:///home/linux1/recipes/ci/toolz_1610987900194/work\r\n",
      "tornado @ file:///opt/concourse/worker/volumes/live/2c1a63a2-006b-48ee-56b9-0cfe8b4927f9/volume/tornado_1606942321278/work\r\n",
      "tqdm @ file:///tmp/build/80754af9/tqdm_1635330843403/work\r\n",
      "traitlets @ file:///tmp/build/80754af9/traitlets_1632522747050/work\r\n",
      "trio==0.21.0\r\n",
      "trio-websocket==0.9.2\r\n",
      "typed-ast @ file:///opt/concourse/worker/volumes/live/c2210c24-bb2d-4474-77f5-1bc9bf1cb79f/volume/typed-ast_1624953683856/work\r\n",
      "typing-extensions @ file:///tmp/build/80754af9/typing_extensions_1631814937681/work\r\n",
      "ujson @ file:///opt/concourse/worker/volumes/live/258fa87e-ec76-445c-5f9c-fc9523993cd7/volume/ujson_1611259511951/work\r\n",
      "unicodecsv==0.14.1\r\n",
      "Unidecode @ file:///tmp/build/80754af9/unidecode_1614712377438/work\r\n",
      "urllib3==1.26.7\r\n",
      "watchdog @ file:///opt/concourse/worker/volumes/live/3aa0e7d9-c795-4854-41fd-f0b2492c886a/volume/watchdog_1624955010200/work\r\n",
      "wcwidth @ file:///Users/ktietz/demo/mc3/conda-bld/wcwidth_1629357192024/work\r\n",
      "webdriver-manager==3.8.1\r\n",
      "webencodings==0.5.1\r\n",
      "Werkzeug @ file:///tmp/build/80754af9/werkzeug_1635505089296/work\r\n",
      "whichcraft @ file:///tmp/build/80754af9/whichcraft_1617751293875/work\r\n",
      "widgetsnbextension @ file:///opt/concourse/worker/volumes/live/42762d5a-6520-4b06-68a2-619dfed6a007/volume/widgetsnbextension_1607531500933/work\r\n",
      "wrapt @ file:///opt/concourse/worker/volumes/live/1381ca3b-f984-4f5c-4f46-a67ca4eeffa5/volume/wrapt_1607574524589/work\r\n",
      "wsproto==1.1.0\r\n",
      "wurlitzer @ file:///opt/concourse/worker/volumes/live/f0d9880a-118b-4ba3-7b92-3c5bb0f6c00b/volume/wurlitzer_1626947802781/work\r\n",
      "xgboost==1.7.4\r\n",
      "xlrd @ file:///tmp/build/80754af9/xlrd_1608072521494/work\r\n",
      "XlsxWriter @ file:///tmp/build/80754af9/xlsxwriter_1628603415431/work\r\n",
      "xlwings==0.24.9\r\n",
      "xlwt==1.3.0\r\n",
      "xmltodict @ file:///Users/ktietz/demo/mc3/conda-bld/xmltodict_1629301980723/work\r\n",
      "yapf @ file:///tmp/build/80754af9/yapf_1615749224965/work\r\n",
      "zict==2.0.0\r\n",
      "zipp @ file:///tmp/build/80754af9/zipp_1633618647012/work\r\n",
      "zope.event==4.5.0\r\n",
      "zope.interface @ file:///opt/concourse/worker/volumes/live/8c2d4bd1-6406-47f0-45ce-890992bafbf6/volume/zope.interface_1625036159007/work\r\n"
     ]
    }
   ],
   "source": [
    "!pip freeze"
   ]
  },
  {
   "cell_type": "code",
   "execution_count": null,
   "id": "c0262e78",
   "metadata": {},
   "outputs": [],
   "source": []
  }
 ],
 "metadata": {
  "kernelspec": {
   "display_name": "venv",
   "language": "python",
   "name": "venv"
  },
  "language_info": {
   "codemirror_mode": {
    "name": "ipython",
    "version": 3
   },
   "file_extension": ".py",
   "mimetype": "text/x-python",
   "name": "python",
   "nbconvert_exporter": "python",
   "pygments_lexer": "ipython3",
   "version": "3.9.7"
  }
 },
 "nbformat": 4,
 "nbformat_minor": 5
}
