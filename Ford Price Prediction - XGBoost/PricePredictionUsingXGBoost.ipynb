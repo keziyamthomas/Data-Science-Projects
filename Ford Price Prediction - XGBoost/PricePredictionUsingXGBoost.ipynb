{
 "cells": [
  {
   "cell_type": "code",
   "execution_count": null,
   "id": "dcffe16c",
   "metadata": {},
   "outputs": [],
   "source": [
    "# install xgboost\n",
    "!pip install xgboost"
   ]
  },
  {
   "cell_type": "code",
   "execution_count": 5,
   "id": "ed6fc7a5",
   "metadata": {},
   "outputs": [],
   "source": [
    "# import necessary packages\n",
    "import pandas as pd\n",
    "import xgboost as xg\n",
    "from sklearn.model_selection import train_test_split\n",
    "from sklearn.metrics import r2_score"
   ]
  },
  {
   "cell_type": "code",
   "execution_count": 6,
   "id": "a92fa3a8",
   "metadata": {},
   "outputs": [],
   "source": [
    "ford_df = pd.read_csv(\"ford.csv\")"
   ]
  },
  {
   "cell_type": "code",
   "execution_count": 7,
   "id": "53251231",
   "metadata": {},
   "outputs": [
    {
     "data": {
      "text/html": [
       "<div>\n",
       "<style scoped>\n",
       "    .dataframe tbody tr th:only-of-type {\n",
       "        vertical-align: middle;\n",
       "    }\n",
       "\n",
       "    .dataframe tbody tr th {\n",
       "        vertical-align: top;\n",
       "    }\n",
       "\n",
       "    .dataframe thead th {\n",
       "        text-align: right;\n",
       "    }\n",
       "</style>\n",
       "<table border=\"1\" class=\"dataframe\">\n",
       "  <thead>\n",
       "    <tr style=\"text-align: right;\">\n",
       "      <th></th>\n",
       "      <th>model</th>\n",
       "      <th>year</th>\n",
       "      <th>price</th>\n",
       "      <th>transmission</th>\n",
       "      <th>mileage</th>\n",
       "      <th>fuelType</th>\n",
       "      <th>tax</th>\n",
       "      <th>mpg</th>\n",
       "      <th>engineSize</th>\n",
       "    </tr>\n",
       "  </thead>\n",
       "  <tbody>\n",
       "    <tr>\n",
       "      <th>0</th>\n",
       "      <td>Fiesta</td>\n",
       "      <td>2017</td>\n",
       "      <td>12000</td>\n",
       "      <td>Automatic</td>\n",
       "      <td>15944</td>\n",
       "      <td>Petrol</td>\n",
       "      <td>150</td>\n",
       "      <td>57.7</td>\n",
       "      <td>1.0</td>\n",
       "    </tr>\n",
       "    <tr>\n",
       "      <th>1</th>\n",
       "      <td>Focus</td>\n",
       "      <td>2018</td>\n",
       "      <td>14000</td>\n",
       "      <td>Manual</td>\n",
       "      <td>9083</td>\n",
       "      <td>Petrol</td>\n",
       "      <td>150</td>\n",
       "      <td>57.7</td>\n",
       "      <td>1.0</td>\n",
       "    </tr>\n",
       "    <tr>\n",
       "      <th>2</th>\n",
       "      <td>Focus</td>\n",
       "      <td>2017</td>\n",
       "      <td>13000</td>\n",
       "      <td>Manual</td>\n",
       "      <td>12456</td>\n",
       "      <td>Petrol</td>\n",
       "      <td>150</td>\n",
       "      <td>57.7</td>\n",
       "      <td>1.0</td>\n",
       "    </tr>\n",
       "    <tr>\n",
       "      <th>3</th>\n",
       "      <td>Fiesta</td>\n",
       "      <td>2019</td>\n",
       "      <td>17500</td>\n",
       "      <td>Manual</td>\n",
       "      <td>10460</td>\n",
       "      <td>Petrol</td>\n",
       "      <td>145</td>\n",
       "      <td>40.3</td>\n",
       "      <td>1.5</td>\n",
       "    </tr>\n",
       "    <tr>\n",
       "      <th>4</th>\n",
       "      <td>Fiesta</td>\n",
       "      <td>2019</td>\n",
       "      <td>16500</td>\n",
       "      <td>Automatic</td>\n",
       "      <td>1482</td>\n",
       "      <td>Petrol</td>\n",
       "      <td>145</td>\n",
       "      <td>48.7</td>\n",
       "      <td>1.0</td>\n",
       "    </tr>\n",
       "  </tbody>\n",
       "</table>\n",
       "</div>"
      ],
      "text/plain": [
       "     model  year  price transmission  mileage fuelType  tax   mpg  engineSize\n",
       "0   Fiesta  2017  12000    Automatic    15944   Petrol  150  57.7         1.0\n",
       "1    Focus  2018  14000       Manual     9083   Petrol  150  57.7         1.0\n",
       "2    Focus  2017  13000       Manual    12456   Petrol  150  57.7         1.0\n",
       "3   Fiesta  2019  17500       Manual    10460   Petrol  145  40.3         1.5\n",
       "4   Fiesta  2019  16500    Automatic     1482   Petrol  145  48.7         1.0"
      ]
     },
     "execution_count": 7,
     "metadata": {},
     "output_type": "execute_result"
    }
   ],
   "source": [
    "ford_df.head()"
   ]
  },
  {
   "cell_type": "code",
   "execution_count": 8,
   "id": "198af630",
   "metadata": {},
   "outputs": [
    {
     "data": {
      "text/plain": [
       "model           0\n",
       "year            0\n",
       "price           0\n",
       "transmission    0\n",
       "mileage         0\n",
       "fuelType        0\n",
       "tax             0\n",
       "mpg             0\n",
       "engineSize      0\n",
       "dtype: int64"
      ]
     },
     "execution_count": 8,
     "metadata": {},
     "output_type": "execute_result"
    }
   ],
   "source": [
    "ford_df.isna().sum()"
   ]
  },
  {
   "cell_type": "code",
   "execution_count": 9,
   "id": "bc61a53d",
   "metadata": {},
   "outputs": [
    {
     "data": {
      "text/plain": [
       "model            object\n",
       "year              int64\n",
       "price             int64\n",
       "transmission     object\n",
       "mileage           int64\n",
       "fuelType         object\n",
       "tax               int64\n",
       "mpg             float64\n",
       "engineSize      float64\n",
       "dtype: object"
      ]
     },
     "execution_count": 9,
     "metadata": {},
     "output_type": "execute_result"
    }
   ],
   "source": [
    "# checking the data type of the features\n",
    "ford_df.dtypes"
   ]
  },
  {
   "cell_type": "markdown",
   "id": "3ce1b169",
   "metadata": {},
   "source": [
    "#### Dealing with categorical data without manually encoding them (feature available only in XGBoost versions starting from 1.5)"
   ]
  },
  {
   "cell_type": "code",
   "execution_count": 10,
   "id": "2190bf3f",
   "metadata": {},
   "outputs": [],
   "source": [
    "ford_df_cat = ford_df"
   ]
  },
  {
   "cell_type": "code",
   "execution_count": 11,
   "id": "07f72e65",
   "metadata": {},
   "outputs": [
    {
     "data": {
      "text/plain": [
       "model            object\n",
       "year              int64\n",
       "price             int64\n",
       "transmission     object\n",
       "mileage           int64\n",
       "fuelType         object\n",
       "tax               int64\n",
       "mpg             float64\n",
       "engineSize      float64\n",
       "dtype: object"
      ]
     },
     "execution_count": 11,
     "metadata": {},
     "output_type": "execute_result"
    }
   ],
   "source": [
    "ford_df_cat.dtypes"
   ]
  },
  {
   "cell_type": "code",
   "execution_count": 12,
   "id": "ded86b6b",
   "metadata": {},
   "outputs": [],
   "source": [
    "# mentioning the features that are categorical\n",
    "ford_df_cat[[\"model\",\"transmission\",\"fuelType\"]] = ford_df_cat[[\"model\",\"transmission\",\"fuelType\"]].astype(\"category\")"
   ]
  },
  {
   "cell_type": "code",
   "execution_count": 13,
   "id": "6f4ee601",
   "metadata": {},
   "outputs": [
    {
     "data": {
      "text/plain": [
       "model           category\n",
       "year               int64\n",
       "price              int64\n",
       "transmission    category\n",
       "mileage            int64\n",
       "fuelType        category\n",
       "tax                int64\n",
       "mpg              float64\n",
       "engineSize       float64\n",
       "dtype: object"
      ]
     },
     "execution_count": 13,
     "metadata": {},
     "output_type": "execute_result"
    }
   ],
   "source": [
    "# checking the data type of features again to see if they are recognized as categories\n",
    "ford_df_cat.dtypes"
   ]
  },
  {
   "cell_type": "code",
   "execution_count": 14,
   "id": "d77ac9e5",
   "metadata": {},
   "outputs": [],
   "source": [
    "# separating features and labels and splitting dataset into train and test set\n",
    "X = ford_df_cat.drop('price',axis=1)\n",
    "y = ford_df_cat['price']\n",
    "X_train, X_test,y_train, y_test = train_test_split(X,y ,\n",
    "                                   random_state=100, \n",
    "                                   test_size=0.20, \n",
    "                                   shuffle=True)"
   ]
  },
  {
   "cell_type": "code",
   "execution_count": 15,
   "id": "6b34060d",
   "metadata": {},
   "outputs": [
    {
     "data": {
      "text/plain": [
       "XGBRegressor(base_score=None, booster=None, callbacks=None,\n",
       "             colsample_bylevel=None, colsample_bynode=None,\n",
       "             colsample_bytree=None, early_stopping_rounds=None,\n",
       "             enable_categorical=True, eval_metric=None, feature_types=None,\n",
       "             gamma=None, gpu_id=None, grow_policy=None, importance_type=None,\n",
       "             interaction_constraints=None, learning_rate=None, max_bin=None,\n",
       "             max_cat_threshold=None, max_cat_to_onehot=None,\n",
       "             max_delta_step=None, max_depth=None, max_leaves=None,\n",
       "             min_child_weight=None, missing=nan, monotone_constraints=None,\n",
       "             n_estimators=12, n_jobs=None, num_parallel_tree=None,\n",
       "             predictor=None, random_state=None, ...)"
      ]
     },
     "execution_count": 15,
     "metadata": {},
     "output_type": "execute_result"
    }
   ],
   "source": [
    "# Defining the XGBoost Regressor\n",
    "# Adding enable_categorical=True to existing parameters\n",
    "# Supported tree_method for categorical data are `gpu_hist`, `approx`, and `hist`\n",
    "xgb = xg.XGBRegressor(objective ='reg:squarederror', n_estimators = 12, seed = 56, tree_method='hist',\n",
    "                      enable_categorical=True)\n",
    "# Training the model using the training dataset\n",
    "xgb.fit(X_train, y_train)"
   ]
  },
  {
   "cell_type": "code",
   "execution_count": 16,
   "id": "88995a03",
   "metadata": {},
   "outputs": [
    {
     "name": "stdout",
     "output_type": "stream",
     "text": [
      "0.911171089852688\n"
     ]
    }
   ],
   "source": [
    "# predicting using trained model and finding the r2 score\n",
    "y_pred = xgb.predict(X_test)\n",
    "r2 = r2_score(y_test,y_pred)\n",
    "print(r2)"
   ]
  },
  {
   "cell_type": "code",
   "execution_count": 17,
   "id": "1a5a1648",
   "metadata": {},
   "outputs": [],
   "source": [
    "# saving the trained model\n",
    "xgb.save_model(\"model.json\")"
   ]
  },
  {
   "cell_type": "markdown",
   "id": "fe385a22",
   "metadata": {},
   "source": [
    "##### Predicting using the saved model"
   ]
  },
  {
   "cell_type": "code",
   "execution_count": 18,
   "id": "e65d9173",
   "metadata": {},
   "outputs": [],
   "source": [
    "import xgboost as xg\n",
    "xgb_saved = xg.Booster()\n",
    "# loading saved model\n",
    "xgb_saved.load_model(\"model.json\")"
   ]
  },
  {
   "cell_type": "code",
   "execution_count": 19,
   "id": "1b7e4e33",
   "metadata": {},
   "outputs": [],
   "source": [
    "#predicting using trained model\n",
    "y_pred_saved = xgb_saved.predict(xg.DMatrix(X_test,enable_categorical=True))"
   ]
  },
  {
   "cell_type": "code",
   "execution_count": 20,
   "id": "39c7e6c3",
   "metadata": {},
   "outputs": [
    {
     "data": {
      "text/plain": [
       "array([ 6874.7046, 10417.231 , 16825.986 ,  8153.799 ,  6967.2495,\n",
       "       10899.846 , 10692.221 ,  9445.076 , 11041.24  , 12960.756 ],\n",
       "      dtype=float32)"
      ]
     },
     "execution_count": 20,
     "metadata": {},
     "output_type": "execute_result"
    }
   ],
   "source": [
    "y_pred_saved[:10]"
   ]
  },
  {
   "cell_type": "code",
   "execution_count": 21,
   "id": "2827be72",
   "metadata": {},
   "outputs": [
    {
     "name": "stdout",
     "output_type": "stream",
     "text": [
      "0.911171089852688\n"
     ]
    }
   ],
   "source": [
    "r2 = r2_score(y_test,y_pred_saved)\n",
    "print(r2)"
   ]
  },
  {
   "cell_type": "markdown",
   "id": "47a6fb0c",
   "metadata": {},
   "source": [
    "#### Grid search CV for finding the best hyperparameters for XGBoost"
   ]
  },
  {
   "cell_type": "code",
   "execution_count": 26,
   "id": "604a0f7a",
   "metadata": {},
   "outputs": [],
   "source": [
    "# possible value for each of the parameters while performing GridSearchCV\n",
    "parameters = {\n",
    "    'learning_rate' : [0.2,0.3,0.4],\n",
    "    'gamma' : [1,2,3,4],\n",
    "    'max_depth': [4,6,7],\n",
    "    'tree_method': ['gpu_hist','approx','hist']\n",
    "}"
   ]
  },
  {
   "cell_type": "code",
   "execution_count": null,
   "id": "0bcb7757",
   "metadata": {},
   "outputs": [],
   "source": [
    "from sklearn.model_selection import GridSearchCV\n",
    "\n",
    "grid_search = GridSearchCV(xgb, parameters,n_jobs=4,cv=5, verbose=3, scoring='r2')\n",
    "grid_search.fit(X, y)"
   ]
  },
  {
   "cell_type": "code",
   "execution_count": 31,
   "id": "9f4ece79",
   "metadata": {},
   "outputs": [
    {
     "name": "stdout",
     "output_type": "stream",
     "text": [
      "0.9303976571076014\n",
      "{'gamma': 1, 'learning_rate': 0.4, 'max_depth': 7, 'tree_method': 'approx'}\n"
     ]
    }
   ],
   "source": [
    "print(grid_search.best_score_)\n",
    "print(grid_search.best_params_)"
   ]
  }
 ],
 "metadata": {
  "kernelspec": {
   "display_name": "venv",
   "language": "python",
   "name": "venv"
  },
  "language_info": {
   "codemirror_mode": {
    "name": "ipython",
    "version": 3
   },
   "file_extension": ".py",
   "mimetype": "text/x-python",
   "name": "python",
   "nbconvert_exporter": "python",
   "pygments_lexer": "ipython3",
   "version": "3.9.7"
  }
 },
 "nbformat": 4,
 "nbformat_minor": 5
}
